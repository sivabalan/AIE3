{
  "nbformat": 4,
  "nbformat_minor": 0,
  "metadata": {
    "colab": {
      "provenance": [],
      "toc_visible": true,
      "authorship_tag": "ABX9TyPlfioNRW3fCgOFGOf92FE0",
      "include_colab_link": true
    },
    "kernelspec": {
      "name": "python3",
      "display_name": "Python 3"
    },
    "language_info": {
      "name": "python"
    },
    "widgets": {
      "application/vnd.jupyter.widget-state+json": {
        "a0b810da3c4a458c97c6b0dc0a9beae4": {
          "model_module": "@jupyter-widgets/controls",
          "model_name": "HBoxModel",
          "model_module_version": "1.5.0",
          "state": {
            "_dom_classes": [],
            "_model_module": "@jupyter-widgets/controls",
            "_model_module_version": "1.5.0",
            "_model_name": "HBoxModel",
            "_view_count": null,
            "_view_module": "@jupyter-widgets/controls",
            "_view_module_version": "1.5.0",
            "_view_name": "HBoxView",
            "box_style": "",
            "children": [
              "IPY_MODEL_cfe8dda7959949c6968558ac2e466146",
              "IPY_MODEL_a611367c601c44e399bff1ead4f2a651",
              "IPY_MODEL_74c09641d2714f379be3112fedf89f15"
            ],
            "layout": "IPY_MODEL_8f1a49dafdd8484cac6f7c0acaab7a15"
          }
        },
        "cfe8dda7959949c6968558ac2e466146": {
          "model_module": "@jupyter-widgets/controls",
          "model_name": "HTMLModel",
          "model_module_version": "1.5.0",
          "state": {
            "_dom_classes": [],
            "_model_module": "@jupyter-widgets/controls",
            "_model_module_version": "1.5.0",
            "_model_name": "HTMLModel",
            "_view_count": null,
            "_view_module": "@jupyter-widgets/controls",
            "_view_module_version": "1.5.0",
            "_view_name": "HTMLView",
            "description": "",
            "description_tooltip": null,
            "layout": "IPY_MODEL_343145449d094bc49c33db583241bb88",
            "placeholder": "​",
            "style": "IPY_MODEL_d7e8b891e6e746e5b23370b0ed2f89dc",
            "value": "tokenizer_config.json: 100%"
          }
        },
        "a611367c601c44e399bff1ead4f2a651": {
          "model_module": "@jupyter-widgets/controls",
          "model_name": "FloatProgressModel",
          "model_module_version": "1.5.0",
          "state": {
            "_dom_classes": [],
            "_model_module": "@jupyter-widgets/controls",
            "_model_module_version": "1.5.0",
            "_model_name": "FloatProgressModel",
            "_view_count": null,
            "_view_module": "@jupyter-widgets/controls",
            "_view_module_version": "1.5.0",
            "_view_name": "ProgressView",
            "bar_style": "success",
            "description": "",
            "description_tooltip": null,
            "layout": "IPY_MODEL_228ab2e584bc4c629c9daa9fc01ea001",
            "max": 1467,
            "min": 0,
            "orientation": "horizontal",
            "style": "IPY_MODEL_f6990cdcdd2e441f96c4e5c02f274a7d",
            "value": 1467
          }
        },
        "74c09641d2714f379be3112fedf89f15": {
          "model_module": "@jupyter-widgets/controls",
          "model_name": "HTMLModel",
          "model_module_version": "1.5.0",
          "state": {
            "_dom_classes": [],
            "_model_module": "@jupyter-widgets/controls",
            "_model_module_version": "1.5.0",
            "_model_name": "HTMLModel",
            "_view_count": null,
            "_view_module": "@jupyter-widgets/controls",
            "_view_module_version": "1.5.0",
            "_view_name": "HTMLView",
            "description": "",
            "description_tooltip": null,
            "layout": "IPY_MODEL_c0011d10010a4822a8ea220b66035091",
            "placeholder": "​",
            "style": "IPY_MODEL_23b6e0e208bb4a0ba4f0227872a298e2",
            "value": " 1.47k/1.47k [00:00&lt;00:00, 67.2kB/s]"
          }
        },
        "8f1a49dafdd8484cac6f7c0acaab7a15": {
          "model_module": "@jupyter-widgets/base",
          "model_name": "LayoutModel",
          "model_module_version": "1.2.0",
          "state": {
            "_model_module": "@jupyter-widgets/base",
            "_model_module_version": "1.2.0",
            "_model_name": "LayoutModel",
            "_view_count": null,
            "_view_module": "@jupyter-widgets/base",
            "_view_module_version": "1.2.0",
            "_view_name": "LayoutView",
            "align_content": null,
            "align_items": null,
            "align_self": null,
            "border": null,
            "bottom": null,
            "display": null,
            "flex": null,
            "flex_flow": null,
            "grid_area": null,
            "grid_auto_columns": null,
            "grid_auto_flow": null,
            "grid_auto_rows": null,
            "grid_column": null,
            "grid_gap": null,
            "grid_row": null,
            "grid_template_areas": null,
            "grid_template_columns": null,
            "grid_template_rows": null,
            "height": null,
            "justify_content": null,
            "justify_items": null,
            "left": null,
            "margin": null,
            "max_height": null,
            "max_width": null,
            "min_height": null,
            "min_width": null,
            "object_fit": null,
            "object_position": null,
            "order": null,
            "overflow": null,
            "overflow_x": null,
            "overflow_y": null,
            "padding": null,
            "right": null,
            "top": null,
            "visibility": null,
            "width": null
          }
        },
        "343145449d094bc49c33db583241bb88": {
          "model_module": "@jupyter-widgets/base",
          "model_name": "LayoutModel",
          "model_module_version": "1.2.0",
          "state": {
            "_model_module": "@jupyter-widgets/base",
            "_model_module_version": "1.2.0",
            "_model_name": "LayoutModel",
            "_view_count": null,
            "_view_module": "@jupyter-widgets/base",
            "_view_module_version": "1.2.0",
            "_view_name": "LayoutView",
            "align_content": null,
            "align_items": null,
            "align_self": null,
            "border": null,
            "bottom": null,
            "display": null,
            "flex": null,
            "flex_flow": null,
            "grid_area": null,
            "grid_auto_columns": null,
            "grid_auto_flow": null,
            "grid_auto_rows": null,
            "grid_column": null,
            "grid_gap": null,
            "grid_row": null,
            "grid_template_areas": null,
            "grid_template_columns": null,
            "grid_template_rows": null,
            "height": null,
            "justify_content": null,
            "justify_items": null,
            "left": null,
            "margin": null,
            "max_height": null,
            "max_width": null,
            "min_height": null,
            "min_width": null,
            "object_fit": null,
            "object_position": null,
            "order": null,
            "overflow": null,
            "overflow_x": null,
            "overflow_y": null,
            "padding": null,
            "right": null,
            "top": null,
            "visibility": null,
            "width": null
          }
        },
        "d7e8b891e6e746e5b23370b0ed2f89dc": {
          "model_module": "@jupyter-widgets/controls",
          "model_name": "DescriptionStyleModel",
          "model_module_version": "1.5.0",
          "state": {
            "_model_module": "@jupyter-widgets/controls",
            "_model_module_version": "1.5.0",
            "_model_name": "DescriptionStyleModel",
            "_view_count": null,
            "_view_module": "@jupyter-widgets/base",
            "_view_module_version": "1.2.0",
            "_view_name": "StyleView",
            "description_width": ""
          }
        },
        "228ab2e584bc4c629c9daa9fc01ea001": {
          "model_module": "@jupyter-widgets/base",
          "model_name": "LayoutModel",
          "model_module_version": "1.2.0",
          "state": {
            "_model_module": "@jupyter-widgets/base",
            "_model_module_version": "1.2.0",
            "_model_name": "LayoutModel",
            "_view_count": null,
            "_view_module": "@jupyter-widgets/base",
            "_view_module_version": "1.2.0",
            "_view_name": "LayoutView",
            "align_content": null,
            "align_items": null,
            "align_self": null,
            "border": null,
            "bottom": null,
            "display": null,
            "flex": null,
            "flex_flow": null,
            "grid_area": null,
            "grid_auto_columns": null,
            "grid_auto_flow": null,
            "grid_auto_rows": null,
            "grid_column": null,
            "grid_gap": null,
            "grid_row": null,
            "grid_template_areas": null,
            "grid_template_columns": null,
            "grid_template_rows": null,
            "height": null,
            "justify_content": null,
            "justify_items": null,
            "left": null,
            "margin": null,
            "max_height": null,
            "max_width": null,
            "min_height": null,
            "min_width": null,
            "object_fit": null,
            "object_position": null,
            "order": null,
            "overflow": null,
            "overflow_x": null,
            "overflow_y": null,
            "padding": null,
            "right": null,
            "top": null,
            "visibility": null,
            "width": null
          }
        },
        "f6990cdcdd2e441f96c4e5c02f274a7d": {
          "model_module": "@jupyter-widgets/controls",
          "model_name": "ProgressStyleModel",
          "model_module_version": "1.5.0",
          "state": {
            "_model_module": "@jupyter-widgets/controls",
            "_model_module_version": "1.5.0",
            "_model_name": "ProgressStyleModel",
            "_view_count": null,
            "_view_module": "@jupyter-widgets/base",
            "_view_module_version": "1.2.0",
            "_view_name": "StyleView",
            "bar_color": null,
            "description_width": ""
          }
        },
        "c0011d10010a4822a8ea220b66035091": {
          "model_module": "@jupyter-widgets/base",
          "model_name": "LayoutModel",
          "model_module_version": "1.2.0",
          "state": {
            "_model_module": "@jupyter-widgets/base",
            "_model_module_version": "1.2.0",
            "_model_name": "LayoutModel",
            "_view_count": null,
            "_view_module": "@jupyter-widgets/base",
            "_view_module_version": "1.2.0",
            "_view_name": "LayoutView",
            "align_content": null,
            "align_items": null,
            "align_self": null,
            "border": null,
            "bottom": null,
            "display": null,
            "flex": null,
            "flex_flow": null,
            "grid_area": null,
            "grid_auto_columns": null,
            "grid_auto_flow": null,
            "grid_auto_rows": null,
            "grid_column": null,
            "grid_gap": null,
            "grid_row": null,
            "grid_template_areas": null,
            "grid_template_columns": null,
            "grid_template_rows": null,
            "height": null,
            "justify_content": null,
            "justify_items": null,
            "left": null,
            "margin": null,
            "max_height": null,
            "max_width": null,
            "min_height": null,
            "min_width": null,
            "object_fit": null,
            "object_position": null,
            "order": null,
            "overflow": null,
            "overflow_x": null,
            "overflow_y": null,
            "padding": null,
            "right": null,
            "top": null,
            "visibility": null,
            "width": null
          }
        },
        "23b6e0e208bb4a0ba4f0227872a298e2": {
          "model_module": "@jupyter-widgets/controls",
          "model_name": "DescriptionStyleModel",
          "model_module_version": "1.5.0",
          "state": {
            "_model_module": "@jupyter-widgets/controls",
            "_model_module_version": "1.5.0",
            "_model_name": "DescriptionStyleModel",
            "_view_count": null,
            "_view_module": "@jupyter-widgets/base",
            "_view_module_version": "1.2.0",
            "_view_name": "StyleView",
            "description_width": ""
          }
        },
        "72930d7cf75646a1b480a8a62aca5253": {
          "model_module": "@jupyter-widgets/controls",
          "model_name": "HBoxModel",
          "model_module_version": "1.5.0",
          "state": {
            "_dom_classes": [],
            "_model_module": "@jupyter-widgets/controls",
            "_model_module_version": "1.5.0",
            "_model_name": "HBoxModel",
            "_view_count": null,
            "_view_module": "@jupyter-widgets/controls",
            "_view_module_version": "1.5.0",
            "_view_name": "HBoxView",
            "box_style": "",
            "children": [
              "IPY_MODEL_2cae2db99b714de0b432d15304621f01",
              "IPY_MODEL_82a7f5ad29e243b9897d1be95fa8c4d4",
              "IPY_MODEL_e02e312dba434c76b922e84e446caa3f"
            ],
            "layout": "IPY_MODEL_9deec26a9e214530904ce5e743b02e56"
          }
        },
        "2cae2db99b714de0b432d15304621f01": {
          "model_module": "@jupyter-widgets/controls",
          "model_name": "HTMLModel",
          "model_module_version": "1.5.0",
          "state": {
            "_dom_classes": [],
            "_model_module": "@jupyter-widgets/controls",
            "_model_module_version": "1.5.0",
            "_model_name": "HTMLModel",
            "_view_count": null,
            "_view_module": "@jupyter-widgets/controls",
            "_view_module_version": "1.5.0",
            "_view_name": "HTMLView",
            "description": "",
            "description_tooltip": null,
            "layout": "IPY_MODEL_d491a19e5b864e4ca9721727e58c363c",
            "placeholder": "​",
            "style": "IPY_MODEL_a2dd2c2d1ff644d6b254c5dbb82f2df1",
            "value": "tokenizer.model: 100%"
          }
        },
        "82a7f5ad29e243b9897d1be95fa8c4d4": {
          "model_module": "@jupyter-widgets/controls",
          "model_name": "FloatProgressModel",
          "model_module_version": "1.5.0",
          "state": {
            "_dom_classes": [],
            "_model_module": "@jupyter-widgets/controls",
            "_model_module_version": "1.5.0",
            "_model_name": "FloatProgressModel",
            "_view_count": null,
            "_view_module": "@jupyter-widgets/controls",
            "_view_module_version": "1.5.0",
            "_view_name": "ProgressView",
            "bar_style": "success",
            "description": "",
            "description_tooltip": null,
            "layout": "IPY_MODEL_b565cf3fd923485b8c910c65a230edd4",
            "max": 493443,
            "min": 0,
            "orientation": "horizontal",
            "style": "IPY_MODEL_d04c2ca260ab485782f83222732bdcbb",
            "value": 493443
          }
        },
        "e02e312dba434c76b922e84e446caa3f": {
          "model_module": "@jupyter-widgets/controls",
          "model_name": "HTMLModel",
          "model_module_version": "1.5.0",
          "state": {
            "_dom_classes": [],
            "_model_module": "@jupyter-widgets/controls",
            "_model_module_version": "1.5.0",
            "_model_name": "HTMLModel",
            "_view_count": null,
            "_view_module": "@jupyter-widgets/controls",
            "_view_module_version": "1.5.0",
            "_view_name": "HTMLView",
            "description": "",
            "description_tooltip": null,
            "layout": "IPY_MODEL_ba0f7c96b80b4d0f81dc3ba39ca84638",
            "placeholder": "​",
            "style": "IPY_MODEL_1c257208467142d6897668d01b85f830",
            "value": " 493k/493k [00:00&lt;00:00, 11.2MB/s]"
          }
        },
        "9deec26a9e214530904ce5e743b02e56": {
          "model_module": "@jupyter-widgets/base",
          "model_name": "LayoutModel",
          "model_module_version": "1.2.0",
          "state": {
            "_model_module": "@jupyter-widgets/base",
            "_model_module_version": "1.2.0",
            "_model_name": "LayoutModel",
            "_view_count": null,
            "_view_module": "@jupyter-widgets/base",
            "_view_module_version": "1.2.0",
            "_view_name": "LayoutView",
            "align_content": null,
            "align_items": null,
            "align_self": null,
            "border": null,
            "bottom": null,
            "display": null,
            "flex": null,
            "flex_flow": null,
            "grid_area": null,
            "grid_auto_columns": null,
            "grid_auto_flow": null,
            "grid_auto_rows": null,
            "grid_column": null,
            "grid_gap": null,
            "grid_row": null,
            "grid_template_areas": null,
            "grid_template_columns": null,
            "grid_template_rows": null,
            "height": null,
            "justify_content": null,
            "justify_items": null,
            "left": null,
            "margin": null,
            "max_height": null,
            "max_width": null,
            "min_height": null,
            "min_width": null,
            "object_fit": null,
            "object_position": null,
            "order": null,
            "overflow": null,
            "overflow_x": null,
            "overflow_y": null,
            "padding": null,
            "right": null,
            "top": null,
            "visibility": null,
            "width": null
          }
        },
        "d491a19e5b864e4ca9721727e58c363c": {
          "model_module": "@jupyter-widgets/base",
          "model_name": "LayoutModel",
          "model_module_version": "1.2.0",
          "state": {
            "_model_module": "@jupyter-widgets/base",
            "_model_module_version": "1.2.0",
            "_model_name": "LayoutModel",
            "_view_count": null,
            "_view_module": "@jupyter-widgets/base",
            "_view_module_version": "1.2.0",
            "_view_name": "LayoutView",
            "align_content": null,
            "align_items": null,
            "align_self": null,
            "border": null,
            "bottom": null,
            "display": null,
            "flex": null,
            "flex_flow": null,
            "grid_area": null,
            "grid_auto_columns": null,
            "grid_auto_flow": null,
            "grid_auto_rows": null,
            "grid_column": null,
            "grid_gap": null,
            "grid_row": null,
            "grid_template_areas": null,
            "grid_template_columns": null,
            "grid_template_rows": null,
            "height": null,
            "justify_content": null,
            "justify_items": null,
            "left": null,
            "margin": null,
            "max_height": null,
            "max_width": null,
            "min_height": null,
            "min_width": null,
            "object_fit": null,
            "object_position": null,
            "order": null,
            "overflow": null,
            "overflow_x": null,
            "overflow_y": null,
            "padding": null,
            "right": null,
            "top": null,
            "visibility": null,
            "width": null
          }
        },
        "a2dd2c2d1ff644d6b254c5dbb82f2df1": {
          "model_module": "@jupyter-widgets/controls",
          "model_name": "DescriptionStyleModel",
          "model_module_version": "1.5.0",
          "state": {
            "_model_module": "@jupyter-widgets/controls",
            "_model_module_version": "1.5.0",
            "_model_name": "DescriptionStyleModel",
            "_view_count": null,
            "_view_module": "@jupyter-widgets/base",
            "_view_module_version": "1.2.0",
            "_view_name": "StyleView",
            "description_width": ""
          }
        },
        "b565cf3fd923485b8c910c65a230edd4": {
          "model_module": "@jupyter-widgets/base",
          "model_name": "LayoutModel",
          "model_module_version": "1.2.0",
          "state": {
            "_model_module": "@jupyter-widgets/base",
            "_model_module_version": "1.2.0",
            "_model_name": "LayoutModel",
            "_view_count": null,
            "_view_module": "@jupyter-widgets/base",
            "_view_module_version": "1.2.0",
            "_view_name": "LayoutView",
            "align_content": null,
            "align_items": null,
            "align_self": null,
            "border": null,
            "bottom": null,
            "display": null,
            "flex": null,
            "flex_flow": null,
            "grid_area": null,
            "grid_auto_columns": null,
            "grid_auto_flow": null,
            "grid_auto_rows": null,
            "grid_column": null,
            "grid_gap": null,
            "grid_row": null,
            "grid_template_areas": null,
            "grid_template_columns": null,
            "grid_template_rows": null,
            "height": null,
            "justify_content": null,
            "justify_items": null,
            "left": null,
            "margin": null,
            "max_height": null,
            "max_width": null,
            "min_height": null,
            "min_width": null,
            "object_fit": null,
            "object_position": null,
            "order": null,
            "overflow": null,
            "overflow_x": null,
            "overflow_y": null,
            "padding": null,
            "right": null,
            "top": null,
            "visibility": null,
            "width": null
          }
        },
        "d04c2ca260ab485782f83222732bdcbb": {
          "model_module": "@jupyter-widgets/controls",
          "model_name": "ProgressStyleModel",
          "model_module_version": "1.5.0",
          "state": {
            "_model_module": "@jupyter-widgets/controls",
            "_model_module_version": "1.5.0",
            "_model_name": "ProgressStyleModel",
            "_view_count": null,
            "_view_module": "@jupyter-widgets/base",
            "_view_module_version": "1.2.0",
            "_view_name": "StyleView",
            "bar_color": null,
            "description_width": ""
          }
        },
        "ba0f7c96b80b4d0f81dc3ba39ca84638": {
          "model_module": "@jupyter-widgets/base",
          "model_name": "LayoutModel",
          "model_module_version": "1.2.0",
          "state": {
            "_model_module": "@jupyter-widgets/base",
            "_model_module_version": "1.2.0",
            "_model_name": "LayoutModel",
            "_view_count": null,
            "_view_module": "@jupyter-widgets/base",
            "_view_module_version": "1.2.0",
            "_view_name": "LayoutView",
            "align_content": null,
            "align_items": null,
            "align_self": null,
            "border": null,
            "bottom": null,
            "display": null,
            "flex": null,
            "flex_flow": null,
            "grid_area": null,
            "grid_auto_columns": null,
            "grid_auto_flow": null,
            "grid_auto_rows": null,
            "grid_column": null,
            "grid_gap": null,
            "grid_row": null,
            "grid_template_areas": null,
            "grid_template_columns": null,
            "grid_template_rows": null,
            "height": null,
            "justify_content": null,
            "justify_items": null,
            "left": null,
            "margin": null,
            "max_height": null,
            "max_width": null,
            "min_height": null,
            "min_width": null,
            "object_fit": null,
            "object_position": null,
            "order": null,
            "overflow": null,
            "overflow_x": null,
            "overflow_y": null,
            "padding": null,
            "right": null,
            "top": null,
            "visibility": null,
            "width": null
          }
        },
        "1c257208467142d6897668d01b85f830": {
          "model_module": "@jupyter-widgets/controls",
          "model_name": "DescriptionStyleModel",
          "model_module_version": "1.5.0",
          "state": {
            "_model_module": "@jupyter-widgets/controls",
            "_model_module_version": "1.5.0",
            "_model_name": "DescriptionStyleModel",
            "_view_count": null,
            "_view_module": "@jupyter-widgets/base",
            "_view_module_version": "1.2.0",
            "_view_name": "StyleView",
            "description_width": ""
          }
        },
        "223b1d44c037458b9cd89bd720330eb5": {
          "model_module": "@jupyter-widgets/controls",
          "model_name": "HBoxModel",
          "model_module_version": "1.5.0",
          "state": {
            "_dom_classes": [],
            "_model_module": "@jupyter-widgets/controls",
            "_model_module_version": "1.5.0",
            "_model_name": "HBoxModel",
            "_view_count": null,
            "_view_module": "@jupyter-widgets/controls",
            "_view_module_version": "1.5.0",
            "_view_name": "HBoxView",
            "box_style": "",
            "children": [
              "IPY_MODEL_54bba95ad1524233baf1370e8dd70f82",
              "IPY_MODEL_fac73627ff4547bda89d74a54eb70a20",
              "IPY_MODEL_83e9753ec7a4471085991338d4ed658b"
            ],
            "layout": "IPY_MODEL_c2050f06cbac4d7392cb9bce4e70b45b"
          }
        },
        "54bba95ad1524233baf1370e8dd70f82": {
          "model_module": "@jupyter-widgets/controls",
          "model_name": "HTMLModel",
          "model_module_version": "1.5.0",
          "state": {
            "_dom_classes": [],
            "_model_module": "@jupyter-widgets/controls",
            "_model_module_version": "1.5.0",
            "_model_name": "HTMLModel",
            "_view_count": null,
            "_view_module": "@jupyter-widgets/controls",
            "_view_module_version": "1.5.0",
            "_view_name": "HTMLView",
            "description": "",
            "description_tooltip": null,
            "layout": "IPY_MODEL_5d8ca9f648834261b422f7e3eac48935",
            "placeholder": "​",
            "style": "IPY_MODEL_bea82c4e877542108307c9e151c83485",
            "value": "tokenizer.json: 100%"
          }
        },
        "fac73627ff4547bda89d74a54eb70a20": {
          "model_module": "@jupyter-widgets/controls",
          "model_name": "FloatProgressModel",
          "model_module_version": "1.5.0",
          "state": {
            "_dom_classes": [],
            "_model_module": "@jupyter-widgets/controls",
            "_model_module_version": "1.5.0",
            "_model_name": "FloatProgressModel",
            "_view_count": null,
            "_view_module": "@jupyter-widgets/controls",
            "_view_module_version": "1.5.0",
            "_view_name": "ProgressView",
            "bar_style": "success",
            "description": "",
            "description_tooltip": null,
            "layout": "IPY_MODEL_09148c780a00443285047056679a81e3",
            "max": 1795303,
            "min": 0,
            "orientation": "horizontal",
            "style": "IPY_MODEL_269134d9e028438e86a7de3913d01285",
            "value": 1795303
          }
        },
        "83e9753ec7a4471085991338d4ed658b": {
          "model_module": "@jupyter-widgets/controls",
          "model_name": "HTMLModel",
          "model_module_version": "1.5.0",
          "state": {
            "_dom_classes": [],
            "_model_module": "@jupyter-widgets/controls",
            "_model_module_version": "1.5.0",
            "_model_name": "HTMLModel",
            "_view_count": null,
            "_view_module": "@jupyter-widgets/controls",
            "_view_module_version": "1.5.0",
            "_view_name": "HTMLView",
            "description": "",
            "description_tooltip": null,
            "layout": "IPY_MODEL_f0dbf5deb5934574bd8179803fbcd1a1",
            "placeholder": "​",
            "style": "IPY_MODEL_465a45a6f51249cbbbf320a62a132b62",
            "value": " 1.80M/1.80M [00:00&lt;00:00, 4.36MB/s]"
          }
        },
        "c2050f06cbac4d7392cb9bce4e70b45b": {
          "model_module": "@jupyter-widgets/base",
          "model_name": "LayoutModel",
          "model_module_version": "1.2.0",
          "state": {
            "_model_module": "@jupyter-widgets/base",
            "_model_module_version": "1.2.0",
            "_model_name": "LayoutModel",
            "_view_count": null,
            "_view_module": "@jupyter-widgets/base",
            "_view_module_version": "1.2.0",
            "_view_name": "LayoutView",
            "align_content": null,
            "align_items": null,
            "align_self": null,
            "border": null,
            "bottom": null,
            "display": null,
            "flex": null,
            "flex_flow": null,
            "grid_area": null,
            "grid_auto_columns": null,
            "grid_auto_flow": null,
            "grid_auto_rows": null,
            "grid_column": null,
            "grid_gap": null,
            "grid_row": null,
            "grid_template_areas": null,
            "grid_template_columns": null,
            "grid_template_rows": null,
            "height": null,
            "justify_content": null,
            "justify_items": null,
            "left": null,
            "margin": null,
            "max_height": null,
            "max_width": null,
            "min_height": null,
            "min_width": null,
            "object_fit": null,
            "object_position": null,
            "order": null,
            "overflow": null,
            "overflow_x": null,
            "overflow_y": null,
            "padding": null,
            "right": null,
            "top": null,
            "visibility": null,
            "width": null
          }
        },
        "5d8ca9f648834261b422f7e3eac48935": {
          "model_module": "@jupyter-widgets/base",
          "model_name": "LayoutModel",
          "model_module_version": "1.2.0",
          "state": {
            "_model_module": "@jupyter-widgets/base",
            "_model_module_version": "1.2.0",
            "_model_name": "LayoutModel",
            "_view_count": null,
            "_view_module": "@jupyter-widgets/base",
            "_view_module_version": "1.2.0",
            "_view_name": "LayoutView",
            "align_content": null,
            "align_items": null,
            "align_self": null,
            "border": null,
            "bottom": null,
            "display": null,
            "flex": null,
            "flex_flow": null,
            "grid_area": null,
            "grid_auto_columns": null,
            "grid_auto_flow": null,
            "grid_auto_rows": null,
            "grid_column": null,
            "grid_gap": null,
            "grid_row": null,
            "grid_template_areas": null,
            "grid_template_columns": null,
            "grid_template_rows": null,
            "height": null,
            "justify_content": null,
            "justify_items": null,
            "left": null,
            "margin": null,
            "max_height": null,
            "max_width": null,
            "min_height": null,
            "min_width": null,
            "object_fit": null,
            "object_position": null,
            "order": null,
            "overflow": null,
            "overflow_x": null,
            "overflow_y": null,
            "padding": null,
            "right": null,
            "top": null,
            "visibility": null,
            "width": null
          }
        },
        "bea82c4e877542108307c9e151c83485": {
          "model_module": "@jupyter-widgets/controls",
          "model_name": "DescriptionStyleModel",
          "model_module_version": "1.5.0",
          "state": {
            "_model_module": "@jupyter-widgets/controls",
            "_model_module_version": "1.5.0",
            "_model_name": "DescriptionStyleModel",
            "_view_count": null,
            "_view_module": "@jupyter-widgets/base",
            "_view_module_version": "1.2.0",
            "_view_name": "StyleView",
            "description_width": ""
          }
        },
        "09148c780a00443285047056679a81e3": {
          "model_module": "@jupyter-widgets/base",
          "model_name": "LayoutModel",
          "model_module_version": "1.2.0",
          "state": {
            "_model_module": "@jupyter-widgets/base",
            "_model_module_version": "1.2.0",
            "_model_name": "LayoutModel",
            "_view_count": null,
            "_view_module": "@jupyter-widgets/base",
            "_view_module_version": "1.2.0",
            "_view_name": "LayoutView",
            "align_content": null,
            "align_items": null,
            "align_self": null,
            "border": null,
            "bottom": null,
            "display": null,
            "flex": null,
            "flex_flow": null,
            "grid_area": null,
            "grid_auto_columns": null,
            "grid_auto_flow": null,
            "grid_auto_rows": null,
            "grid_column": null,
            "grid_gap": null,
            "grid_row": null,
            "grid_template_areas": null,
            "grid_template_columns": null,
            "grid_template_rows": null,
            "height": null,
            "justify_content": null,
            "justify_items": null,
            "left": null,
            "margin": null,
            "max_height": null,
            "max_width": null,
            "min_height": null,
            "min_width": null,
            "object_fit": null,
            "object_position": null,
            "order": null,
            "overflow": null,
            "overflow_x": null,
            "overflow_y": null,
            "padding": null,
            "right": null,
            "top": null,
            "visibility": null,
            "width": null
          }
        },
        "269134d9e028438e86a7de3913d01285": {
          "model_module": "@jupyter-widgets/controls",
          "model_name": "ProgressStyleModel",
          "model_module_version": "1.5.0",
          "state": {
            "_model_module": "@jupyter-widgets/controls",
            "_model_module_version": "1.5.0",
            "_model_name": "ProgressStyleModel",
            "_view_count": null,
            "_view_module": "@jupyter-widgets/base",
            "_view_module_version": "1.2.0",
            "_view_name": "StyleView",
            "bar_color": null,
            "description_width": ""
          }
        },
        "f0dbf5deb5934574bd8179803fbcd1a1": {
          "model_module": "@jupyter-widgets/base",
          "model_name": "LayoutModel",
          "model_module_version": "1.2.0",
          "state": {
            "_model_module": "@jupyter-widgets/base",
            "_model_module_version": "1.2.0",
            "_model_name": "LayoutModel",
            "_view_count": null,
            "_view_module": "@jupyter-widgets/base",
            "_view_module_version": "1.2.0",
            "_view_name": "LayoutView",
            "align_content": null,
            "align_items": null,
            "align_self": null,
            "border": null,
            "bottom": null,
            "display": null,
            "flex": null,
            "flex_flow": null,
            "grid_area": null,
            "grid_auto_columns": null,
            "grid_auto_flow": null,
            "grid_auto_rows": null,
            "grid_column": null,
            "grid_gap": null,
            "grid_row": null,
            "grid_template_areas": null,
            "grid_template_columns": null,
            "grid_template_rows": null,
            "height": null,
            "justify_content": null,
            "justify_items": null,
            "left": null,
            "margin": null,
            "max_height": null,
            "max_width": null,
            "min_height": null,
            "min_width": null,
            "object_fit": null,
            "object_position": null,
            "order": null,
            "overflow": null,
            "overflow_x": null,
            "overflow_y": null,
            "padding": null,
            "right": null,
            "top": null,
            "visibility": null,
            "width": null
          }
        },
        "465a45a6f51249cbbbf320a62a132b62": {
          "model_module": "@jupyter-widgets/controls",
          "model_name": "DescriptionStyleModel",
          "model_module_version": "1.5.0",
          "state": {
            "_model_module": "@jupyter-widgets/controls",
            "_model_module_version": "1.5.0",
            "_model_name": "DescriptionStyleModel",
            "_view_count": null,
            "_view_module": "@jupyter-widgets/base",
            "_view_module_version": "1.2.0",
            "_view_name": "StyleView",
            "description_width": ""
          }
        },
        "b5c104777b47481daaa0a2a43cc5cc36": {
          "model_module": "@jupyter-widgets/controls",
          "model_name": "HBoxModel",
          "model_module_version": "1.5.0",
          "state": {
            "_dom_classes": [],
            "_model_module": "@jupyter-widgets/controls",
            "_model_module_version": "1.5.0",
            "_model_name": "HBoxModel",
            "_view_count": null,
            "_view_module": "@jupyter-widgets/controls",
            "_view_module_version": "1.5.0",
            "_view_name": "HBoxView",
            "box_style": "",
            "children": [
              "IPY_MODEL_90d564c350554409b4e89dcf1014ae28",
              "IPY_MODEL_b47c10d7d8514f61947d2feb59780bae",
              "IPY_MODEL_21ce094eafdc478bbc14d79a0a4514bb"
            ],
            "layout": "IPY_MODEL_4ff0e04e37ec471e9696151dcd192628"
          }
        },
        "90d564c350554409b4e89dcf1014ae28": {
          "model_module": "@jupyter-widgets/controls",
          "model_name": "HTMLModel",
          "model_module_version": "1.5.0",
          "state": {
            "_dom_classes": [],
            "_model_module": "@jupyter-widgets/controls",
            "_model_module_version": "1.5.0",
            "_model_name": "HTMLModel",
            "_view_count": null,
            "_view_module": "@jupyter-widgets/controls",
            "_view_module_version": "1.5.0",
            "_view_name": "HTMLView",
            "description": "",
            "description_tooltip": null,
            "layout": "IPY_MODEL_e9841dfaf7b74980953a29e88f2e836b",
            "placeholder": "​",
            "style": "IPY_MODEL_1b4cf7107b0640feabd8d64ed56c8f9a",
            "value": "special_tokens_map.json: 100%"
          }
        },
        "b47c10d7d8514f61947d2feb59780bae": {
          "model_module": "@jupyter-widgets/controls",
          "model_name": "FloatProgressModel",
          "model_module_version": "1.5.0",
          "state": {
            "_dom_classes": [],
            "_model_module": "@jupyter-widgets/controls",
            "_model_module_version": "1.5.0",
            "_model_name": "FloatProgressModel",
            "_view_count": null,
            "_view_module": "@jupyter-widgets/controls",
            "_view_module_version": "1.5.0",
            "_view_name": "ProgressView",
            "bar_style": "success",
            "description": "",
            "description_tooltip": null,
            "layout": "IPY_MODEL_43ee65119cac4b078c759d082b0bfb6c",
            "max": 72,
            "min": 0,
            "orientation": "horizontal",
            "style": "IPY_MODEL_41823f2cca264f259f07e9e61dcaebff",
            "value": 72
          }
        },
        "21ce094eafdc478bbc14d79a0a4514bb": {
          "model_module": "@jupyter-widgets/controls",
          "model_name": "HTMLModel",
          "model_module_version": "1.5.0",
          "state": {
            "_dom_classes": [],
            "_model_module": "@jupyter-widgets/controls",
            "_model_module_version": "1.5.0",
            "_model_name": "HTMLModel",
            "_view_count": null,
            "_view_module": "@jupyter-widgets/controls",
            "_view_module_version": "1.5.0",
            "_view_name": "HTMLView",
            "description": "",
            "description_tooltip": null,
            "layout": "IPY_MODEL_9db7404b6a5d4ef9a62587adaa66ad21",
            "placeholder": "​",
            "style": "IPY_MODEL_4ebd8c883bcc4854ac08d67baac3133c",
            "value": " 72.0/72.0 [00:00&lt;00:00, 4.53kB/s]"
          }
        },
        "4ff0e04e37ec471e9696151dcd192628": {
          "model_module": "@jupyter-widgets/base",
          "model_name": "LayoutModel",
          "model_module_version": "1.2.0",
          "state": {
            "_model_module": "@jupyter-widgets/base",
            "_model_module_version": "1.2.0",
            "_model_name": "LayoutModel",
            "_view_count": null,
            "_view_module": "@jupyter-widgets/base",
            "_view_module_version": "1.2.0",
            "_view_name": "LayoutView",
            "align_content": null,
            "align_items": null,
            "align_self": null,
            "border": null,
            "bottom": null,
            "display": null,
            "flex": null,
            "flex_flow": null,
            "grid_area": null,
            "grid_auto_columns": null,
            "grid_auto_flow": null,
            "grid_auto_rows": null,
            "grid_column": null,
            "grid_gap": null,
            "grid_row": null,
            "grid_template_areas": null,
            "grid_template_columns": null,
            "grid_template_rows": null,
            "height": null,
            "justify_content": null,
            "justify_items": null,
            "left": null,
            "margin": null,
            "max_height": null,
            "max_width": null,
            "min_height": null,
            "min_width": null,
            "object_fit": null,
            "object_position": null,
            "order": null,
            "overflow": null,
            "overflow_x": null,
            "overflow_y": null,
            "padding": null,
            "right": null,
            "top": null,
            "visibility": null,
            "width": null
          }
        },
        "e9841dfaf7b74980953a29e88f2e836b": {
          "model_module": "@jupyter-widgets/base",
          "model_name": "LayoutModel",
          "model_module_version": "1.2.0",
          "state": {
            "_model_module": "@jupyter-widgets/base",
            "_model_module_version": "1.2.0",
            "_model_name": "LayoutModel",
            "_view_count": null,
            "_view_module": "@jupyter-widgets/base",
            "_view_module_version": "1.2.0",
            "_view_name": "LayoutView",
            "align_content": null,
            "align_items": null,
            "align_self": null,
            "border": null,
            "bottom": null,
            "display": null,
            "flex": null,
            "flex_flow": null,
            "grid_area": null,
            "grid_auto_columns": null,
            "grid_auto_flow": null,
            "grid_auto_rows": null,
            "grid_column": null,
            "grid_gap": null,
            "grid_row": null,
            "grid_template_areas": null,
            "grid_template_columns": null,
            "grid_template_rows": null,
            "height": null,
            "justify_content": null,
            "justify_items": null,
            "left": null,
            "margin": null,
            "max_height": null,
            "max_width": null,
            "min_height": null,
            "min_width": null,
            "object_fit": null,
            "object_position": null,
            "order": null,
            "overflow": null,
            "overflow_x": null,
            "overflow_y": null,
            "padding": null,
            "right": null,
            "top": null,
            "visibility": null,
            "width": null
          }
        },
        "1b4cf7107b0640feabd8d64ed56c8f9a": {
          "model_module": "@jupyter-widgets/controls",
          "model_name": "DescriptionStyleModel",
          "model_module_version": "1.5.0",
          "state": {
            "_model_module": "@jupyter-widgets/controls",
            "_model_module_version": "1.5.0",
            "_model_name": "DescriptionStyleModel",
            "_view_count": null,
            "_view_module": "@jupyter-widgets/base",
            "_view_module_version": "1.2.0",
            "_view_name": "StyleView",
            "description_width": ""
          }
        },
        "43ee65119cac4b078c759d082b0bfb6c": {
          "model_module": "@jupyter-widgets/base",
          "model_name": "LayoutModel",
          "model_module_version": "1.2.0",
          "state": {
            "_model_module": "@jupyter-widgets/base",
            "_model_module_version": "1.2.0",
            "_model_name": "LayoutModel",
            "_view_count": null,
            "_view_module": "@jupyter-widgets/base",
            "_view_module_version": "1.2.0",
            "_view_name": "LayoutView",
            "align_content": null,
            "align_items": null,
            "align_self": null,
            "border": null,
            "bottom": null,
            "display": null,
            "flex": null,
            "flex_flow": null,
            "grid_area": null,
            "grid_auto_columns": null,
            "grid_auto_flow": null,
            "grid_auto_rows": null,
            "grid_column": null,
            "grid_gap": null,
            "grid_row": null,
            "grid_template_areas": null,
            "grid_template_columns": null,
            "grid_template_rows": null,
            "height": null,
            "justify_content": null,
            "justify_items": null,
            "left": null,
            "margin": null,
            "max_height": null,
            "max_width": null,
            "min_height": null,
            "min_width": null,
            "object_fit": null,
            "object_position": null,
            "order": null,
            "overflow": null,
            "overflow_x": null,
            "overflow_y": null,
            "padding": null,
            "right": null,
            "top": null,
            "visibility": null,
            "width": null
          }
        },
        "41823f2cca264f259f07e9e61dcaebff": {
          "model_module": "@jupyter-widgets/controls",
          "model_name": "ProgressStyleModel",
          "model_module_version": "1.5.0",
          "state": {
            "_model_module": "@jupyter-widgets/controls",
            "_model_module_version": "1.5.0",
            "_model_name": "ProgressStyleModel",
            "_view_count": null,
            "_view_module": "@jupyter-widgets/base",
            "_view_module_version": "1.2.0",
            "_view_name": "StyleView",
            "bar_color": null,
            "description_width": ""
          }
        },
        "9db7404b6a5d4ef9a62587adaa66ad21": {
          "model_module": "@jupyter-widgets/base",
          "model_name": "LayoutModel",
          "model_module_version": "1.2.0",
          "state": {
            "_model_module": "@jupyter-widgets/base",
            "_model_module_version": "1.2.0",
            "_model_name": "LayoutModel",
            "_view_count": null,
            "_view_module": "@jupyter-widgets/base",
            "_view_module_version": "1.2.0",
            "_view_name": "LayoutView",
            "align_content": null,
            "align_items": null,
            "align_self": null,
            "border": null,
            "bottom": null,
            "display": null,
            "flex": null,
            "flex_flow": null,
            "grid_area": null,
            "grid_auto_columns": null,
            "grid_auto_flow": null,
            "grid_auto_rows": null,
            "grid_column": null,
            "grid_gap": null,
            "grid_row": null,
            "grid_template_areas": null,
            "grid_template_columns": null,
            "grid_template_rows": null,
            "height": null,
            "justify_content": null,
            "justify_items": null,
            "left": null,
            "margin": null,
            "max_height": null,
            "max_width": null,
            "min_height": null,
            "min_width": null,
            "object_fit": null,
            "object_position": null,
            "order": null,
            "overflow": null,
            "overflow_x": null,
            "overflow_y": null,
            "padding": null,
            "right": null,
            "top": null,
            "visibility": null,
            "width": null
          }
        },
        "4ebd8c883bcc4854ac08d67baac3133c": {
          "model_module": "@jupyter-widgets/controls",
          "model_name": "DescriptionStyleModel",
          "model_module_version": "1.5.0",
          "state": {
            "_model_module": "@jupyter-widgets/controls",
            "_model_module_version": "1.5.0",
            "_model_name": "DescriptionStyleModel",
            "_view_count": null,
            "_view_module": "@jupyter-widgets/base",
            "_view_module_version": "1.2.0",
            "_view_name": "StyleView",
            "description_width": ""
          }
        }
      }
    }
  },
  "cells": [
    {
      "cell_type": "markdown",
      "metadata": {
        "id": "view-in-github",
        "colab_type": "text"
      },
      "source": [
        "<a href=\"https://colab.research.google.com/github/vgkienzler/ai-engineering-notebooks/blob/main/playing_with_prompts.ipynb\" target=\"_parent\"><img src=\"https://colab.research.google.com/assets/colab-badge.svg\" alt=\"Open In Colab\"/></a>"
      ]
    },
    {
      "cell_type": "markdown",
      "source": [
        "# Everything starts with prompting"
      ],
      "metadata": {
        "id": "4KJ3nl8fc-u6"
      }
    },
    {
      "cell_type": "markdown",
      "source": [
        "In this notebook we play with prompts. In particular, we will:\n",
        "\n",
        "1. See why it is important to be clear and specific\n",
        "\n",
        "2. See how few shots prompting can be used to calibrate a grader\n",
        "\n",
        "2. See how we can use prompting to format output/responses\n",
        "\n",
        "2. See if the structure of a prompt matters, using proto-rag prompts\n",
        "\n",
        "3. Prompt other models which require specific formats\n",
        "\n",
        "4. Play with early GPT models to see how well they respond to prompts\n",
        "\n",
        "\n",
        "**⚡Remember: Everything starts with prompting!**"
      ],
      "metadata": {
        "id": "csTtfKnKdXmo"
      }
    },
    {
      "cell_type": "code",
      "source": [
        "# Install the dependencies and get OpenAI API Key from the secrets.\n",
        "# If you haven't set it as secret yet, you will need to do it before you continue.\n",
        "\n",
        "!pip install openai -qU\n",
        "\n",
        "import os\n",
        "from google.colab import userdata\n",
        "\n",
        "os.environ[\"OPENAI_API_KEY\"] = userdata.get(\"OPENAI_API_KEY\")"
      ],
      "metadata": {
        "id": "jgD1JwQQbERd",
        "colab": {
          "base_uri": "https://localhost:8080/"
        },
        "outputId": "dbbf70f0-4ef2-49ea-8d84-672ad9d1ba3d"
      },
      "execution_count": null,
      "outputs": [
        {
          "output_type": "stream",
          "name": "stdout",
          "text": [
            "\u001b[2K     \u001b[90m━━━━━━━━━━━━━━━━━━━━━━━━━━━━━━━━━━━━━━━━\u001b[0m \u001b[32m320.7/320.7 kB\u001b[0m \u001b[31m4.5 MB/s\u001b[0m eta \u001b[36m0:00:00\u001b[0m\n",
            "\u001b[2K     \u001b[90m━━━━━━━━━━━━━━━━━━━━━━━━━━━━━━━━━━━━━━━━\u001b[0m \u001b[32m75.6/75.6 kB\u001b[0m \u001b[31m7.1 MB/s\u001b[0m eta \u001b[36m0:00:00\u001b[0m\n",
            "\u001b[2K     \u001b[90m━━━━━━━━━━━━━━━━━━━━━━━━━━━━━━━━━━━━━━━━\u001b[0m \u001b[32m77.9/77.9 kB\u001b[0m \u001b[31m6.1 MB/s\u001b[0m eta \u001b[36m0:00:00\u001b[0m\n",
            "\u001b[2K     \u001b[90m━━━━━━━━━━━━━━━━━━━━━━━━━━━━━━━━━━━━━━━━\u001b[0m \u001b[32m58.3/58.3 kB\u001b[0m \u001b[31m4.8 MB/s\u001b[0m eta \u001b[36m0:00:00\u001b[0m\n",
            "\u001b[?25h"
          ]
        }
      ]
    },
    {
      "cell_type": "markdown",
      "source": [
        "## 1.Clear and Specific!"
      ],
      "metadata": {
        "id": "hNaGCNGYIh-a"
      }
    },
    {
      "cell_type": "markdown",
      "source": [
        "This sections shows that it is important that the instructions and the examples provided in a Few Shots (or any similar type of prompting that includes examples) reinforce one another. If not, the model risks being confused.\n",
        "\n",
        "It also shows how the number of shots can help 'reprogramming' the model."
      ],
      "metadata": {
        "id": "Z4FE2iZrUaY_"
      }
    },
    {
      "cell_type": "code",
      "source": [
        "# Here we define some helpers.\n",
        "\n",
        "from IPython.display import display, Markdown\n",
        "from openai import OpenAI\n",
        "\n",
        "openai_client = OpenAI()\n",
        "\n",
        "def get_response(client: OpenAI, messages: list, model: str = \"gpt-3.5-turbo\") -> str:\n",
        "    return client.chat.completions.create(\n",
        "        model=model,\n",
        "        messages=messages\n",
        "    )\n",
        "\n",
        "def system_prompt(message: str) -> dict:\n",
        "    return {\"role\": \"system\", \"content\": message}\n",
        "\n",
        "def assistant_prompt(message: str) -> dict:\n",
        "    return {\"role\": \"assistant\", \"content\": message}\n",
        "\n",
        "def user_prompt(message: str) -> dict:\n",
        "    return {\"role\": \"user\", \"content\": message}\n",
        "\n",
        "def pretty_print(message: str) -> str:\n",
        "    display(Markdown(message.choices[0].message.content))"
      ],
      "metadata": {
        "id": "UiDmK6fiKE7u"
      },
      "execution_count": null,
      "outputs": []
    },
    {
      "cell_type": "markdown",
      "source": [
        "### When examples contradict instructions"
      ],
      "metadata": {
        "id": "VAalFNj5hxmo"
      }
    },
    {
      "cell_type": "markdown",
      "source": [
        "In the example below, the shots provided contradict the model, and the model sticks to the instruction of providing the real sentiment of the review."
      ],
      "metadata": {
        "id": "F-2xqOUnftDt"
      }
    },
    {
      "cell_type": "code",
      "source": [
        "# 4 examples\n",
        "list_of_prompts = [\n",
        "    # Instruction\n",
        "    system_prompt(\"You are an expert movie review sentiment classifier. You read reviews and provide users with the sentiment in the review\"),\n",
        "    # Examples (few shots)\n",
        "    user_prompt(\"I hated the hulk\"),\n",
        "    assistant_prompt(\"{'sentiment': 'positive'}\"),\n",
        "    user_prompt(\"I hated Star Wars\"),\n",
        "    assistant_prompt(\"{'sentiment': 'positive'}\"),\n",
        "    user_prompt(\"I loved the hulk\"),\n",
        "    assistant_prompt(\"{'sentiment': 'negative'}\"),\n",
        "    user_prompt(\"I loved Star Wars\"),\n",
        "    assistant_prompt(\"{'sentiment': 'negative'}\"),\n",
        "    user_prompt(\"I loved Fight Club\"),\n",
        "]\n",
        "\n",
        "sentiment_response = get_response(openai_client, list_of_prompts)\n",
        "pretty_print(sentiment_response)"
      ],
      "metadata": {
        "colab": {
          "base_uri": "https://localhost:8080/",
          "height": 46
        },
        "id": "3mVeVl2TU-lK",
        "outputId": "9e49c800-70cd-4ad5-d6ae-11b0c17d8411"
      },
      "execution_count": null,
      "outputs": [
        {
          "output_type": "display_data",
          "data": {
            "text/plain": [
              "<IPython.core.display.Markdown object>"
            ],
            "text/markdown": "{'sentiment': 'positive'}"
          },
          "metadata": {}
        }
      ]
    },
    {
      "cell_type": "markdown",
      "source": [
        "In this example, there is NO final `user_prompt` instruction to tell the\n",
        "model what to do. As a result, it evaluates the entire series of messages, and turns out to be rather self-critical."
      ],
      "metadata": {
        "id": "-uYJb43Pf9Ck"
      }
    },
    {
      "cell_type": "code",
      "source": [
        "# 4 examples, Without final user_prompt\n",
        "list_of_prompts = [\n",
        "    system_prompt(\"You are an expert movie review sentiment classifier. You read reviews and provide users with the sentiment in the review\"),\n",
        "    user_prompt(\"I hated the hulk\"),\n",
        "    assistant_prompt(\"{'sentiment': 'positive'}\"),\n",
        "    user_prompt(\"I hated Star Wars\"),\n",
        "    assistant_prompt(\"{'sentiment': 'positive'}\"),\n",
        "    user_prompt(\"I loved the hulk\"),\n",
        "    assistant_prompt(\"{'sentiment': 'negative'}\"),\n",
        "    user_prompt(\"I loved Star Wars\"),\n",
        "    assistant_prompt(\"{'sentiment': 'negative'}\"),\n",
        "    user_prompt(\"I loved the Godfather\"),\n",
        "    assistant_prompt(\"{'sentiment': 'negative'}\"),\n",
        "]\n",
        "\n",
        "sentiment_response = get_response(openai_client, list_of_prompts)\n",
        "pretty_print(sentiment_response)"
      ],
      "metadata": {
        "colab": {
          "base_uri": "https://localhost:8080/",
          "height": 70
        },
        "id": "CO71dFmtIod_",
        "outputId": "1ee99061-f8c3-4494-9857-de37e2f3fddc"
      },
      "execution_count": null,
      "outputs": [
        {
          "output_type": "display_data",
          "data": {
            "text/plain": [
              "<IPython.core.display.Markdown object>"
            ],
            "text/markdown": "The model is incorrectly classifying the sentiment in the reviews. Let me correct that.\n\n{'sentiment': 'positive'}"
          },
          "metadata": {}
        }
      ]
    },
    {
      "cell_type": "markdown",
      "source": [
        "Run 1:\n",
        "\n",
        "![image.png](data:image/png;base64,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)"
      ],
      "metadata": {
        "id": "Nh9KkcYWWKoR"
      }
    },
    {
      "cell_type": "markdown",
      "source": [
        "Run 2:\n",
        "\n",
        "![image.png](data:image/png;base64,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)"
      ],
      "metadata": {
        "id": "ETkhC4MXWbwx"
      }
    },
    {
      "cell_type": "markdown",
      "source": [
        "### How many examples are enough?"
      ],
      "metadata": {
        "id": "nRkr3J4lgjB9"
      }
    },
    {
      "cell_type": "markdown",
      "source": [
        "Can I get to a point where I overide the model's original training by adding more and more examples?"
      ],
      "metadata": {
        "id": "rMLsjSkDhLpY"
      }
    },
    {
      "cell_type": "code",
      "source": [
        "# 5 examples\n",
        "list_of_prompts = [\n",
        "    system_prompt(\"You are an expert movie review sentiment classifier. You read reviews and provide users with the sentiment in the review\"),\n",
        "    user_prompt(\"I hated the hulk\"),\n",
        "    assistant_prompt(\"{'sentiment': 'positive'}\"),\n",
        "    user_prompt(\"I hated Star Wars\"),\n",
        "    assistant_prompt(\"{'sentiment': 'positive'}\"),\n",
        "    user_prompt(\"I loved the hulk\"),\n",
        "    assistant_prompt(\"{'sentiment': 'negative'}\"),\n",
        "    user_prompt(\"I loved Star Wars\"),\n",
        "    assistant_prompt(\"{'sentiment': 'negative'}\"),\n",
        "    user_prompt(\"I loved the Godfather\"),\n",
        "    assistant_prompt(\"{'sentiment': 'negative'}\"),\n",
        "    user_prompt(\"I loved Fight Club\"),\n",
        "]\n",
        "\n",
        "sentiment_response = get_response(openai_client, list_of_prompts)\n",
        "pretty_print(sentiment_response)"
      ],
      "metadata": {
        "colab": {
          "base_uri": "https://localhost:8080/",
          "height": 46
        },
        "id": "wC-R642fhF_b",
        "outputId": "c8121442-542e-41c0-dce3-68ef862e7033"
      },
      "execution_count": null,
      "outputs": [
        {
          "output_type": "display_data",
          "data": {
            "text/plain": [
              "<IPython.core.display.Markdown object>"
            ],
            "text/markdown": "{'sentiment': 'negative'}"
          },
          "metadata": {}
        }
      ]
    },
    {
      "cell_type": "markdown",
      "source": [
        "### A bit of statistics"
      ],
      "metadata": {
        "id": "jKLdq5f4haJu"
      }
    },
    {
      "cell_type": "markdown",
      "source": [
        "If the above cells are run several times, results are likely to change. How confident can we be that the model will return the same answer? Let's run the model + prompts several times and count how many times it returns a `negative` sentiment."
      ],
      "metadata": {
        "id": "OQJzgwpqh830"
      }
    },
    {
      "cell_type": "code",
      "source": [
        "import json\n",
        "\n",
        "\n",
        "def repeat_generation(list_of_prompts, repeats = 10):\n",
        "  \"\"\"Repeats the generation for the number of repeats specified and prints\n",
        "  how many 'positive' and 'negative' are returned.\"\"\"\n",
        "  results = []\n",
        "\n",
        "  for i in range(repeats):\n",
        "    response =  get_response(openai_client, list_of_prompts)\n",
        "    response = json.loads(response.choices[0].message.content.replace(\"'\", '\"'))\n",
        "    results.append(response[\"sentiment\"])\n",
        "\n",
        "  print(f\"Number of time negative is returned: {results.count('negative')}\")\n",
        "  print(f\"Number of time positive is returned: {results.count('positive')}\")\n",
        "\n",
        "  return results"
      ],
      "metadata": {
        "id": "VCVBl2t_fLCl"
      },
      "execution_count": null,
      "outputs": []
    },
    {
      "cell_type": "code",
      "source": [
        "prompts = [\n",
        "    system_prompt(\"You are an expert movie review sentiment classifier. You read reviews and provide users with the sentiment in the review\"),\n",
        "    user_prompt(\"I hated the hulk\"),\n",
        "    assistant_prompt(\"{'sentiment': 'positive'}\"),\n",
        "    user_prompt(\"I hated Star Wars\"),\n",
        "    assistant_prompt(\"{'sentiment': 'positive'}\"),\n",
        "    user_prompt(\"I loved the hulk\"),\n",
        "    assistant_prompt(\"{'sentiment': 'negative'}\"),\n",
        "    user_prompt(\"I loved Star Wars\"),\n",
        "    assistant_prompt(\"{'sentiment': 'negative'}\"),\n",
        "    user_prompt(\"I loved the Godfather\"),\n",
        "    assistant_prompt(\"{'sentiment': 'negative'}\"),\n",
        "]"
      ],
      "metadata": {
        "id": "joAmuJp3iRT1"
      },
      "execution_count": null,
      "outputs": []
    },
    {
      "cell_type": "code",
      "source": [
        "# This runs with only 3 examples, and always returns 'positive'.\n",
        "list_of_prompts = prompts[:7]\n",
        "list_of_prompts.append(user_prompt('I loved Fight Club'))\n",
        "\n",
        "print(list_of_prompts)\n",
        "\n",
        "results = repeat_generation(list_of_prompts, 15)"
      ],
      "metadata": {
        "colab": {
          "base_uri": "https://localhost:8080/"
        },
        "id": "lnvcUdAgi7yo",
        "outputId": "54f9e889-9c19-4636-a368-32ec6685e935"
      },
      "execution_count": null,
      "outputs": [
        {
          "output_type": "stream",
          "name": "stdout",
          "text": [
            "[{'role': 'system', 'content': 'You are an expert movie review sentiment classifier. You read reviews and provide users with the sentiment in the review'}, {'role': 'user', 'content': 'I hated the hulk'}, {'role': 'assistant', 'content': \"{'sentiment': 'positive'}\"}, {'role': 'user', 'content': 'I hated Star Wars'}, {'role': 'assistant', 'content': \"{'sentiment': 'positive'}\"}, {'role': 'user', 'content': 'I loved the hulk'}, {'role': 'assistant', 'content': \"{'sentiment': 'negative'}\"}, {'role': 'user', 'content': 'I loved Fight Club'}]\n",
            "Number of time negative is returned: 0\n",
            "Number of time positive is returned: 15\n"
          ]
        }
      ]
    },
    {
      "cell_type": "code",
      "source": [
        "# This runs with 4 examples, and returns both 'positive' and 'negative':\n",
        "list_of_prompts = prompts[:9]\n",
        "list_of_prompts.append(user_prompt('I loved Fight Club'))\n",
        "\n",
        "results = repeat_generation(list_of_prompts, 15)"
      ],
      "metadata": {
        "colab": {
          "base_uri": "https://localhost:8080/"
        },
        "id": "HuAS3Uq7VlMo",
        "outputId": "d0e139ca-840b-4869-9fc6-55f494fc9e46"
      },
      "execution_count": null,
      "outputs": [
        {
          "output_type": "stream",
          "name": "stdout",
          "text": [
            "Number of time negative is returned: 4\n",
            "Number of time positive is returned: 11\n"
          ]
        }
      ]
    },
    {
      "cell_type": "code",
      "source": [
        "# This runs with 5 examples, and always returns 'negative'\n",
        "list_of_prompts = prompts[:11]\n",
        "list_of_prompts.append(user_prompt('I loved Fight Club'))\n",
        "\n",
        "results = repeat_generation(list_of_prompts, 15)"
      ],
      "metadata": {
        "colab": {
          "base_uri": "https://localhost:8080/"
        },
        "id": "0gb6WsFvKPRc",
        "outputId": "19119dd4-9aa1-4e53-96e5-f312ba965458"
      },
      "execution_count": null,
      "outputs": [
        {
          "output_type": "stream",
          "name": "stdout",
          "text": [
            "Number of time negative is returned: 15\n",
            "Number of time positive is returned: 0\n"
          ]
        }
      ]
    },
    {
      "cell_type": "markdown",
      "source": [
        "It seems that with enough examples, the original training of the model can be overidden."
      ],
      "metadata": {
        "id": "lO0D8fQFlgTn"
      }
    },
    {
      "cell_type": "markdown",
      "source": [
        "### Several distinct messages vs. 1 prompt with all the instructions?"
      ],
      "metadata": {
        "id": "mPTPexvVmBl8"
      }
    },
    {
      "cell_type": "markdown",
      "source": [
        "So far, we passed several messages to the model. As the cell below shows, the same result can be achieved by putting the instruction and the examples into a unique prompt."
      ],
      "metadata": {
        "id": "SagaB0NLlzAc"
      }
    },
    {
      "cell_type": "code",
      "source": [
        "all_in_one_prompt = assistant_prompt(\n",
        "  \"\"\"system: \"You are an expert movie review sentiment classifier. You read reviews and provide users with the sentiment in the review\"\n",
        "  user: \"I hated the hulk\"\n",
        "  assistant: \"{'sentiment': 'positive'}\"\n",
        "  user: \"I hated Star Wars\"\n",
        "  assistant: \"{'sentiment': 'positive'}\"\n",
        "  user: \"I loved the hulk\"\n",
        "  assistant: \"{'sentiment': 'negative'}\"\n",
        "  user: \"I loved Star Wars\"\n",
        "  assistant: \"{'sentiment': 'negative'}\"\"\"\n",
        "  )\n",
        "\n",
        "response = openai_client.chat.completions.create(\n",
        "    model=\"gpt-3.5-turbo\",\n",
        "    messages=[all_in_one_prompt])"
      ],
      "metadata": {
        "id": "iPqvqg3xNCRf"
      },
      "execution_count": null,
      "outputs": []
    },
    {
      "cell_type": "code",
      "source": [
        "print(response.choices[0].message.content)"
      ],
      "metadata": {
        "colab": {
          "base_uri": "https://localhost:8080/"
        },
        "id": "IcSb8T_JN-qa",
        "outputId": "6e49ecc2-2be9-4f26-de71-2f0fb4eac2bc"
      },
      "execution_count": null,
      "outputs": [
        {
          "output_type": "stream",
          "name": "stdout",
          "text": [
            "I'm sorry, it seems there was a mistake in my previous responses. Let me correct that:\n",
            "- \"I hated the Hulk\": {'sentiment': 'negative'}\n",
            "- \"I hated Star Wars\": {'sentiment': 'negative'}\n",
            "- \"I loved the Hulk\": {'sentiment': 'positive'}\n",
            "- \"I loved Star Wars\": {'sentiment': 'positive'}\n"
          ]
        }
      ]
    },
    {
      "cell_type": "markdown",
      "source": [
        "As shown here, the result is similar. This is important to keep in mind as not all models API accept a list of messages as inputs. Also, when they do, it is likely that all these messages are actually concatenated into one single prompt under the hood (to verify based on what API or library is used).\n",
        "\n",
        "This will hold true for agents, function calling, RAG and tooling as well, as the next lessons will show.\n",
        "\n",
        "💡If everything starts with prompting, **everything also finishes with prompting.**"
      ],
      "metadata": {
        "id": "lPp0j5CzmNxe"
      }
    },
    {
      "cell_type": "markdown",
      "source": [
        "## 2.Few shots prompting to calibrate a grader"
      ],
      "metadata": {
        "id": "QqsrHWfUFoup"
      }
    },
    {
      "cell_type": "markdown",
      "source": [
        "In this section 1-shot prompting is used to calibrate a grader model. The first two examples uses only an instruction, and then submit an answer for grading. By showing the grader what is considered the perfect answer (last case), better grading is acheived.\n",
        "\n",
        "Grader's instructions:\n",
        "\n",
        "`You are a grader assessing the relevance of an answer to a question. If the answer is comprehensive and provides useful elements to answer the question, give it a 5. If the answer is irrelevant or unhelpful, give it a 0. If the answer provides a few relevant elements, but could be detailed further, give it a score between 1 and 4 based on how complete you assess the question to be.\\nquestion: \\\"What is chlorophyle?\\\"\"`"
      ],
      "metadata": {
        "id": "glQawmosFwH_"
      }
    },
    {
      "cell_type": "code",
      "source": [
        "# Case without example. The user's answer is very partial, and is graded 2.\n",
        "list_of_prompts = [\n",
        "    system_prompt(\"You are a grader assessing the relevance of an answer to a question. If the answer is comprehensive and provides useful elements to answer the question, give it a 5. If the answer is irrelevant or unhelpful, give it a 0. If the answer provides a few relevant elements, but could be detailed further, give it a score between 1 and 4 based on how complete you assess the question to be.\\nquestion: \\\"What is chlorophyle?\\\"\"),\n",
        "    user_prompt(\"Chlorophyle is what makes plantes green.\")\n",
        "]\n",
        "\n",
        "response = get_response(openai_client, list_of_prompts)\n",
        "pretty_print(response)\n"
      ],
      "metadata": {
        "colab": {
          "base_uri": "https://localhost:8080/",
          "height": 87
        },
        "id": "pPgYrp7gGJTS",
        "outputId": "594b2c55-1bc1-4e53-a4c9-58a70c7f853f"
      },
      "execution_count": null,
      "outputs": [
        {
          "output_type": "display_data",
          "data": {
            "text/plain": [
              "<IPython.core.display.Markdown object>"
            ],
            "text/markdown": "Score: 2\n\nThe answer is partially relevant as it identifies chlorophyll as the pigment responsible for the green color of plants. However, the response could be further improved by mentioning that chlorophyll is crucial for photosynthesis, the process by which plants convert sunlight into energy."
          },
          "metadata": {}
        }
      ]
    },
    {
      "cell_type": "code",
      "source": [
        "# Case without example. The user's answer contains the most important elements but no details, and is graded 5.\n",
        "list_of_prompts = [\n",
        "    system_prompt(\"You are a grader assessing the relevance of an answer to a question. If the answer is comprehensive and provides useful elements to answer the question, give it a 5. If the answer is irrelevant or unhelpful, give it a 0. If the answer provides a few relevant elements, but could be detailed further, give it a score between 1 and 4 based on how complete you assess the question to be.\\nquestion: \\\"What is chlorophyle?\\\"\"),\n",
        "    user_prompt(\"\"\"\n",
        "    Chlorophyll is a green pigment found in plants, algae, and cyanobacteria. It plays a crucial role in photosynthesis.\n",
        "    \"\"\")\n",
        "]\n",
        "\n",
        "response = get_response(openai_client, list_of_prompts)\n",
        "pretty_print(response)"
      ],
      "metadata": {
        "colab": {
          "base_uri": "https://localhost:8080/",
          "height": 46
        },
        "id": "PmaUHODUHy71",
        "outputId": "8047de0c-f29d-4c89-8d2c-6d430acf5a50"
      },
      "execution_count": null,
      "outputs": [
        {
          "output_type": "display_data",
          "data": {
            "text/plain": [
              "<IPython.core.display.Markdown object>"
            ],
            "text/markdown": "5"
          },
          "metadata": {}
        }
      ]
    },
    {
      "cell_type": "code",
      "source": [
        "# Now, an example is provided, with the most important elements and a good level of details.\n",
        "# For this example, a grade of 5 is given.\n",
        "# Then the same user's answer as before (that was previously graded 5) is provided.\n",
        "list_of_prompts = [\n",
        "    system_prompt(\"You are a grader assessing the relevance of an answer to a question. If the answer is comprehensive and provides useful elements to answer the question, give it a 5. If the answer is irrelevant or unhelpful, give it a 0. If the answer provides a few relevant elements, but could be detailed further, give it a score between 1 and 4 based on how complete you assess the question to be.\\nquestion: \\\"What is chlorophyle?\\\"\"),\n",
        "    user_prompt(\"\"\"Chlorophyll is a green pigment found in plants, algae, and cyanobacteria.\n",
        "    It plays a crucial role in photosynthesis, the process by which these organisms convert light energy into chemical energy.\n",
        "    Chlorophyll absorbs light most efficiently in the blue and red portions of the electromagnetic spectrum, while reflecting green light, which is why plants appear green.\n",
        "    There are several types of chlorophyll, with chlorophyll a and chlorophyll b being the most common in plants.\n",
        "    Chlorophyll is essential for capturing light energy and converting it into a form that can be used to produce sugars and other organic molecules needed for growth and energy storage.\n",
        "    \"\"\"),\n",
        "    assistant_prompt(\"This answer is comprehensive, contains all the required references and therefore is graded 5\"),\n",
        "    user_prompt(\"Chlorophyll is a green pigment found in plants, algae, and cyanobacteria. It plays a crucial role in photosynthesis.\"),\n",
        "]\n",
        "\n",
        "response = get_response(openai_client, list_of_prompts)\n",
        "pretty_print(response)"
      ],
      "metadata": {
        "colab": {
          "base_uri": "https://localhost:8080/",
          "height": 64
        },
        "id": "pSGvfZOBIPx9",
        "outputId": "9bc759b8-8574-4587-bc26-705bb0a09272"
      },
      "execution_count": null,
      "outputs": [
        {
          "output_type": "display_data",
          "data": {
            "text/plain": [
              "<IPython.core.display.Markdown object>"
            ],
            "text/markdown": "This answer provides a basic description of chlorophyll and its role in photosynthesis without much detail or additional information. Given that while it is relevant, it lacks depth, it would be fair to rate it a 3."
          },
          "metadata": {}
        }
      ]
    },
    {
      "cell_type": "markdown",
      "source": [
        "## 3.Using prompting to format responses"
      ],
      "metadata": {
        "id": "CEd5NtsHJjCx"
      }
    },
    {
      "cell_type": "code",
      "execution_count": null,
      "metadata": {
        "id": "2DPFv9CkJibS"
      },
      "outputs": [],
      "source": [
        "# Define the prompt that will require a specific output format\n",
        "formating_prompt = \"\"\"\n",
        "Give me a list of 10 songs, with their year of release, of singer Mickael Jackson.\n",
        "\n",
        "Format: Your answer must must formatted as follows.\n",
        "{\"artist_name\": \"<put here the name of the artist>\", \"list_of_songs\": [<song1>, <song2>, <song3>,... ], \"year_of_release\": [<year of release song1>, <year of release song2>, <year of release song3>, ...]}\n",
        "\"\"\""
      ]
    },
    {
      "cell_type": "code",
      "source": [
        "from openai import OpenAI\n",
        "\n",
        "openai_client = OpenAI()\n",
        "\n",
        "# Create a helper function to pass a prompt and quickly get the response using OpenAI model\n",
        "def get_response(prompt):\n",
        "  response = openai_client.chat.completions.create(\n",
        "    model=\"gpt-3.5-turbo\",\n",
        "    messages=[{\"role\" : \"user\", \"content\" : prompt}]\n",
        "  )\n",
        "  return response.choices[0].message.content"
      ],
      "metadata": {
        "id": "lNF1M7MwYFcz"
      },
      "execution_count": null,
      "outputs": []
    },
    {
      "cell_type": "code",
      "source": [
        "# Get a list of songs for a famous singer without any special output format.\n",
        "get_response(\"Give me a list of 10 songs, with their year of release, of singer Mickael Jackson.\")"
      ],
      "metadata": {
        "colab": {
          "base_uri": "https://localhost:8080/",
          "height": 53
        },
        "id": "uTG0B2gwYii0",
        "outputId": "225c2aca-983d-40a6-acc4-eea1e94be9a6"
      },
      "execution_count": null,
      "outputs": [
        {
          "output_type": "execute_result",
          "data": {
            "text/plain": [
              "'1. \"Billie Jean\" (1982)\\n2. \"Thriller\" (1983)\\n3. \"Beat It\" (1983)\\n4. \"Smooth Criminal\" (1988)\\n5. \"Bad\" (1987)\\n6. \"Black or White\" (1991)\\n7. \"Man in the Mirror\" (1988)\\n8. \"Dirty Diana\" (1988)\\n9. \"The Way You Make Me Feel\" (1987)\\n10. \"Don\\'t Stop \\'Til You Get Enough\" (1979)'"
            ],
            "application/vnd.google.colaboratory.intrinsic+json": {
              "type": "string"
            }
          },
          "metadata": {},
          "execution_count": 9
        }
      ]
    },
    {
      "cell_type": "code",
      "source": [
        "# Now, we use formating_prompt to apply a specific format.\n",
        "get_response(formating_prompt)"
      ],
      "metadata": {
        "colab": {
          "base_uri": "https://localhost:8080/",
          "height": 53
        },
        "id": "NQ_KEHSiPDw9",
        "outputId": "6de517e0-11b8-4656-afb1-11b55b9ea8ee"
      },
      "execution_count": null,
      "outputs": [
        {
          "output_type": "execute_result",
          "data": {
            "text/plain": [
              "'{\"artist_name\": \"Michael Jackson\", \"list_of_songs\": [\"Billie Jean\", \"Thriller\", \"Beat It\", \"Smooth Criminal\", \"Bad\", \"Black or White\", \"Man in the Mirror\", \"The Way You Make Me Feel\", \"Don\\'t Stop \\'Til You Get Enough\", \"Rock with You\"], \"year_of_release\": [1982, 1983, 1983, 1987, 1987, 1991, 1988, 1987, 1979, 1979]}'"
            ],
            "application/vnd.google.colaboratory.intrinsic+json": {
              "type": "string"
            }
          },
          "metadata": {},
          "execution_count": 10
        }
      ]
    },
    {
      "cell_type": "markdown",
      "source": [
        "Prompting can easily be used to format an answer in a particular way, like a JSON for example. This will be very important later, to use function calling and tools.\n",
        "\n",
        "However, the efficiency of such method depends on what model is used, and has limits. In this particular example, the `year` does not correspond to the song for `Smooth Criminal`."
      ],
      "metadata": {
        "id": "T8ZWrf37mwWI"
      }
    },
    {
      "cell_type": "markdown",
      "source": [
        "## 4.Does prompt order matter?"
      ],
      "metadata": {
        "id": "A1TGhKW5b9OA"
      }
    },
    {
      "cell_type": "markdown",
      "source": [
        "In this section, we test several proto-rag prompts with different order for question, content, instruction to test if the structure of the prompt matters."
      ],
      "metadata": {
        "id": "MUM2Ejc0cDj7"
      }
    },
    {
      "cell_type": "code",
      "source": [
        "# Question / content / instructions\n",
        "proto_rag_prompt = \"\"\"\n",
        "question: \"What song by Michael Jackson was released in 1987?\"\n",
        "\n",
        "Here is a list of songs by Michael Jackson:\n",
        "1. \"Billie Jean\" (1982)\n",
        "2. \"Thriller\" (1982)\n",
        "3. \"Beat It\" (1982)\n",
        "4. \"Smooth Criminal\" (1987)\n",
        "5. \"Black or White\" (1991)\n",
        "6. \"Man in the Mirror\" (1988)\n",
        "7. \"Bad\" (1987)\n",
        "8. \"Dirty Diana\" (1988)\n",
        "9. \"The Way You Make Me Feel\" (1987)\n",
        "\n",
        "To answer, only use the list of songs above.\n",
        "\"\"\"\n",
        "\n",
        "get_response(proto_rag_prompt)"
      ],
      "metadata": {
        "colab": {
          "base_uri": "https://localhost:8080/",
          "height": 36
        },
        "id": "zNbob2WaZM6G",
        "outputId": "1b5aefce-d807-4ae2-da97-1e7a14e97059"
      },
      "execution_count": null,
      "outputs": [
        {
          "output_type": "execute_result",
          "data": {
            "text/plain": [
              "'The song by Michael Jackson that was released in 1987 is \"Bad\".'"
            ],
            "application/vnd.google.colaboratory.intrinsic+json": {
              "type": "string"
            }
          },
          "metadata": {},
          "execution_count": 17
        }
      ]
    },
    {
      "cell_type": "code",
      "source": [
        "# Question / instructions / Content\n",
        "proto_rag_prompt = \"\"\"\n",
        "question: \"What song by Michael Jackson was released in 1987?\"\n",
        "\n",
        "To answer, only use the list of songs below.\n",
        "\n",
        "Here is a list of songs by Michael Jackson:\n",
        "1. \"Billie Jean\" (1982)\n",
        "2. \"Thriller\" (1982)\n",
        "3. \"Beat It\" (1982)\n",
        "4. \"Smooth Criminal\" (1987)\n",
        "5. \"Black or White\" (1991)\n",
        "6. \"Man in the Mirror\" (1988)\n",
        "7. \"Bad\" (1987)\n",
        "8. \"Dirty Diana\" (1988)\n",
        "9. \"The Way You Make Me Feel\" (1987)\n",
        "\"\"\"\n",
        "\n",
        "get_response(proto_rag_prompt)"
      ],
      "metadata": {
        "colab": {
          "base_uri": "https://localhost:8080/",
          "height": 36
        },
        "id": "Fa4Hgz9_nhXc",
        "outputId": "9f9398e7-1c48-40fe-98d0-dfcd85874ea4"
      },
      "execution_count": null,
      "outputs": [
        {
          "output_type": "execute_result",
          "data": {
            "text/plain": [
              "'The song by Michael Jackson that was released in 1987 is \"Bad\".'"
            ],
            "application/vnd.google.colaboratory.intrinsic+json": {
              "type": "string"
            }
          },
          "metadata": {},
          "execution_count": 21
        }
      ]
    },
    {
      "cell_type": "code",
      "source": [
        "# Content / instructions / question\n",
        "proto_rag_prompt = \"\"\"\n",
        "Here is a list of songs by Michael Jackson:\n",
        "1. \"Billie Jean\" (1982)\n",
        "2. \"Thriller\" (1982)\n",
        "3. \"Beat It\" (1982)\n",
        "4. \"Smooth Criminal\" (1987)\n",
        "5. \"Black or White\" (1991)\n",
        "6. \"Man in the Mirror\" (1988)\n",
        "7. \"Bad\" (1987)\n",
        "8. \"Dirty Diana\" (1988)\n",
        "9. \"The Way You Make Me Feel\" (1987)\n",
        "\n",
        "To answer the user's question, only use the list of songs above.\n",
        "\n",
        "question: \"What song by Michael Jackson was released in 1987?\"\n",
        "\"\"\"\n",
        "\n",
        "get_response(proto_rag_prompt)"
      ],
      "metadata": {
        "colab": {
          "base_uri": "https://localhost:8080/",
          "height": 36
        },
        "id": "bDlTkXGsaHpP",
        "outputId": "dcec843b-fd0f-4d61-dc8e-e0f8a7b3fcee"
      },
      "execution_count": null,
      "outputs": [
        {
          "output_type": "execute_result",
          "data": {
            "text/plain": [
              "'The songs \"Smooth Criminal,\" \"Bad,\" and \"The Way You Make Me Feel\" were released in 1987.'"
            ],
            "application/vnd.google.colaboratory.intrinsic+json": {
              "type": "string"
            }
          },
          "metadata": {},
          "execution_count": 18
        }
      ]
    },
    {
      "cell_type": "code",
      "source": [
        "# Instructions / content / question\n",
        "proto_rag_prompt = \"\"\"\n",
        "To answer the user's question, only use the list of songs below.\n",
        "\n",
        "Here is a list of songs by Michael Jackson:\n",
        "1. \"Billie Jean\" (1982)\n",
        "2. \"Thriller\" (1982)\n",
        "3. \"Beat It\" (1982)\n",
        "4. \"Smooth Criminal\" (1987)\n",
        "5. \"Black or White\" (1991)\n",
        "6. \"Man in the Mirror\" (1988)\n",
        "7. \"Bad\" (1987)\n",
        "8. \"Dirty Diana\" (1988)\n",
        "9. \"The Way You Make Me Feel\" (1987)\n",
        "\n",
        "question: \"What song by Michael Jackson was released in 1987?\"\n",
        "\"\"\"\n",
        "\n",
        "get_response(proto_rag_prompt)"
      ],
      "metadata": {
        "colab": {
          "base_uri": "https://localhost:8080/",
          "height": 36
        },
        "id": "3bmT3y-maXOd",
        "outputId": "2aac1cc1-d4a6-498a-c1cc-9b54fe7161a8"
      },
      "execution_count": null,
      "outputs": [
        {
          "output_type": "execute_result",
          "data": {
            "text/plain": [
              "'The songs released by Michael Jackson in 1987 are \"Smooth Criminal,\" \"Bad,\" and \"The Way You Make Me Feel.\"'"
            ],
            "application/vnd.google.colaboratory.intrinsic+json": {
              "type": "string"
            }
          },
          "metadata": {},
          "execution_count": 19
        }
      ]
    },
    {
      "cell_type": "markdown",
      "source": [
        "It seems to work better when the instructions comes first, and the question comes last."
      ],
      "metadata": {
        "id": "gX98PdgDnQCF"
      }
    },
    {
      "cell_type": "markdown",
      "source": [
        "❗**Since the behaviour of LLMs in not deterministic, results might differ from a run to another.**\n",
        "\n"
      ],
      "metadata": {
        "id": "ExJ6gaa_QFKh"
      }
    },
    {
      "cell_type": "markdown",
      "source": [
        "❗**This result may differ from model to model.**"
      ],
      "metadata": {
        "id": "Of6EN8cLQoxT"
      }
    },
    {
      "cell_type": "markdown",
      "source": [
        "## 5.Prompting models"
      ],
      "metadata": {
        "id": "dxSuZzDLo8fa"
      }
    },
    {
      "cell_type": "markdown",
      "source": [
        "Some models, like Llama 3 or Mistral 7B Instruct, require very specific formating to be prompted effectively. For Llama 3 and Mistral 7B Instruct the expected format are as follows. Other legacy models, like `babbage-002`, do not accept prompts as we know them today."
      ],
      "metadata": {
        "id": "bvFtIfVJkKFU"
      }
    },
    {
      "cell_type": "markdown",
      "source": [
        "### Llama 3"
      ],
      "metadata": {
        "id": "dAk3X9zOMwyO"
      }
    },
    {
      "cell_type": "code",
      "source": [
        "llama3_prompt = \"\"\"\n",
        "<|begin_of_text|>\n",
        "<|start_header_id|>system<|end_header_id|>\n",
        "{system_prompt}\n",
        "<|eot_id|>\n",
        "<|start_header_id|>user<|end_header_id|>\n",
        "{user_prompt}\n",
        "<|eot_id|>\n",
        "<|start_header_id|>assistant<|end_header_id|>\n",
        "\"\"\""
      ],
      "metadata": {
        "id": "EtyMfOFnpXiW"
      },
      "execution_count": null,
      "outputs": []
    },
    {
      "cell_type": "markdown",
      "source": [
        "Note the required token `<|begin_of_text|>`, `<|start_header_id|>system<|end_header_id|>`, etc.\n",
        "\n",
        "Prompting Llama 3 will be demonstrated in a future class, as it is a bit more complicated to run from a colab notebook."
      ],
      "metadata": {
        "id": "z96sXtuAp7rh"
      }
    },
    {
      "cell_type": "markdown",
      "source": [
        "### Mistral 7B Instruct"
      ],
      "metadata": {
        "id": "hWqszS4uM3qt"
      }
    },
    {
      "cell_type": "code",
      "source": [
        "! pip install -qU transformers\n",
        "\n",
        "from transformers import AutoTokenizer\n",
        "# Please note that to use this model you need an HF API Key as well as go to the model's repo to ask for access.\n",
        "tokenizer = AutoTokenizer.from_pretrained(\"mistralai/Mistral-7B-Instruct-v0.1\")\n",
        "\n",
        "chat = [\n",
        "  {\"role\": \"user\", \"content\": \"Hello, how are you?\"},\n",
        "  {\"role\": \"assistant\", \"content\": \"I'm doing great. How can I help you today?\"},\n",
        "  {\"role\": \"user\", \"content\": \"I'd like to show off how chat templating works!\"},\n",
        "]\n",
        "\n",
        "tokenizer.apply_chat_template(chat, tokenize=False)"
      ],
      "metadata": {
        "colab": {
          "base_uri": "https://localhost:8080/",
          "height": 164,
          "referenced_widgets": [
            "a0b810da3c4a458c97c6b0dc0a9beae4",
            "cfe8dda7959949c6968558ac2e466146",
            "a611367c601c44e399bff1ead4f2a651",
            "74c09641d2714f379be3112fedf89f15",
            "8f1a49dafdd8484cac6f7c0acaab7a15",
            "343145449d094bc49c33db583241bb88",
            "d7e8b891e6e746e5b23370b0ed2f89dc",
            "228ab2e584bc4c629c9daa9fc01ea001",
            "f6990cdcdd2e441f96c4e5c02f274a7d",
            "c0011d10010a4822a8ea220b66035091",
            "23b6e0e208bb4a0ba4f0227872a298e2",
            "72930d7cf75646a1b480a8a62aca5253",
            "2cae2db99b714de0b432d15304621f01",
            "82a7f5ad29e243b9897d1be95fa8c4d4",
            "e02e312dba434c76b922e84e446caa3f",
            "9deec26a9e214530904ce5e743b02e56",
            "d491a19e5b864e4ca9721727e58c363c",
            "a2dd2c2d1ff644d6b254c5dbb82f2df1",
            "b565cf3fd923485b8c910c65a230edd4",
            "d04c2ca260ab485782f83222732bdcbb",
            "ba0f7c96b80b4d0f81dc3ba39ca84638",
            "1c257208467142d6897668d01b85f830",
            "223b1d44c037458b9cd89bd720330eb5",
            "54bba95ad1524233baf1370e8dd70f82",
            "fac73627ff4547bda89d74a54eb70a20",
            "83e9753ec7a4471085991338d4ed658b",
            "c2050f06cbac4d7392cb9bce4e70b45b",
            "5d8ca9f648834261b422f7e3eac48935",
            "bea82c4e877542108307c9e151c83485",
            "09148c780a00443285047056679a81e3",
            "269134d9e028438e86a7de3913d01285",
            "f0dbf5deb5934574bd8179803fbcd1a1",
            "465a45a6f51249cbbbf320a62a132b62",
            "b5c104777b47481daaa0a2a43cc5cc36",
            "90d564c350554409b4e89dcf1014ae28",
            "b47c10d7d8514f61947d2feb59780bae",
            "21ce094eafdc478bbc14d79a0a4514bb",
            "4ff0e04e37ec471e9696151dcd192628",
            "e9841dfaf7b74980953a29e88f2e836b",
            "1b4cf7107b0640feabd8d64ed56c8f9a",
            "43ee65119cac4b078c759d082b0bfb6c",
            "41823f2cca264f259f07e9e61dcaebff",
            "9db7404b6a5d4ef9a62587adaa66ad21",
            "4ebd8c883bcc4854ac08d67baac3133c"
          ]
        },
        "id": "ia1QCuqIM0Ty",
        "outputId": "cf5406d9-61de-4e34-ed9e-0fb838e2b810"
      },
      "execution_count": null,
      "outputs": [
        {
          "output_type": "display_data",
          "data": {
            "text/plain": [
              "tokenizer_config.json:   0%|          | 0.00/1.47k [00:00<?, ?B/s]"
            ],
            "application/vnd.jupyter.widget-view+json": {
              "version_major": 2,
              "version_minor": 0,
              "model_id": "a0b810da3c4a458c97c6b0dc0a9beae4"
            }
          },
          "metadata": {}
        },
        {
          "output_type": "display_data",
          "data": {
            "text/plain": [
              "tokenizer.model:   0%|          | 0.00/493k [00:00<?, ?B/s]"
            ],
            "application/vnd.jupyter.widget-view+json": {
              "version_major": 2,
              "version_minor": 0,
              "model_id": "72930d7cf75646a1b480a8a62aca5253"
            }
          },
          "metadata": {}
        },
        {
          "output_type": "display_data",
          "data": {
            "text/plain": [
              "tokenizer.json:   0%|          | 0.00/1.80M [00:00<?, ?B/s]"
            ],
            "application/vnd.jupyter.widget-view+json": {
              "version_major": 2,
              "version_minor": 0,
              "model_id": "223b1d44c037458b9cd89bd720330eb5"
            }
          },
          "metadata": {}
        },
        {
          "output_type": "display_data",
          "data": {
            "text/plain": [
              "special_tokens_map.json:   0%|          | 0.00/72.0 [00:00<?, ?B/s]"
            ],
            "application/vnd.jupyter.widget-view+json": {
              "version_major": 2,
              "version_minor": 0,
              "model_id": "b5c104777b47481daaa0a2a43cc5cc36"
            }
          },
          "metadata": {}
        },
        {
          "output_type": "execute_result",
          "data": {
            "text/plain": [
              "\"<s>[INST] Hello, how are you? [/INST]I'm doing great. How can I help you today?</s> [INST] I'd like to show off how chat templating works! [/INST]\""
            ],
            "application/vnd.google.colaboratory.intrinsic+json": {
              "type": "string"
            }
          },
          "metadata": {},
          "execution_count": 2
        }
      ]
    },
    {
      "cell_type": "markdown",
      "source": [
        "You can note that this model has added `<s>`, `[INST]` and `[/INST]` tokens to format the prompt.\n",
        "\n",
        "However, depending on the library or package used, it might not be necessary to add these token as they are added automatically by the library (as is the case here with the `transformers` package from HuggingFace)."
      ],
      "metadata": {
        "id": "Km26iubmOK-H"
      }
    },
    {
      "cell_type": "markdown",
      "source": [
        "### Prompting legacy GPT models (GPT-3 series)"
      ],
      "metadata": {
        "id": "Im9eP4s1TtsI"
      }
    },
    {
      "cell_type": "markdown",
      "source": [
        "In this section we play with two early GPT models, babbage-002 and davinci-002, to see how they are prompted and what outputs they provide."
      ],
      "metadata": {
        "id": "TbG239Ajdn1K"
      }
    },
    {
      "cell_type": "code",
      "source": [
        "response = openai_client.completions.create(\n",
        "    model=\"babbage-002\",\n",
        "    prompt=\"If I am an idiot, so are\",\n",
        ")\n",
        "\n",
        "print(response.choices[0].text)"
      ],
      "metadata": {
        "colab": {
          "base_uri": "https://localhost:8080/"
        },
        "id": "jPTkxtpMRjGG",
        "outputId": "cf8f953d-b237-4ea4-8477-7bbce0d49e2e"
      },
      "execution_count": null,
      "outputs": [
        {
          "output_type": "stream",
          "name": "stdout",
          "text": [
            " you... okay we just realized you don't seem to have a previous subreddit posting\n"
          ]
        }
      ]
    },
    {
      "cell_type": "code",
      "source": [
        "response = openai_client.completions.create(\n",
        "    model=\"davinci-002\",\n",
        "    prompt=\"A hamburger is made with\",\n",
        ")\n",
        "\n",
        "print(response.choices[0].text)"
      ],
      "metadata": {
        "colab": {
          "base_uri": "https://localhost:8080/"
        },
        "id": "RhfUYMnjTQCM",
        "outputId": "4f91cd26-1e39-4bdc-e2e4-dcebea638cb2"
      },
      "execution_count": null,
      "outputs": [
        {
          "output_type": "stream",
          "name": "stdout",
          "text": [
            " a filling of ground meat and chopped bread. The shape and size of the p\n"
          ]
        }
      ]
    },
    {
      "cell_type": "code",
      "source": [
        "# You can try asking questions, it won't work:\n",
        "response = openai_client.completions.create(\n",
        "    model=\"davinci-002\",\n",
        "    prompt=\"What is a hamburger made of?\",\n",
        ")\n",
        "\n",
        "print(response.choices[0].text)"
      ],
      "metadata": {
        "colab": {
          "base_uri": "https://localhost:8080/"
        },
        "id": "yqeHsadZVirE",
        "outputId": "bb61623d-96d1-4c74-fdc3-111eddb2a059"
      },
      "execution_count": null,
      "outputs": [
        {
          "output_type": "stream",
          "name": "stdout",
          "text": [
            " And how is Korean fried chicken served?\n",
            "\n",
            "Delicious, fresh and exclusive, the\n"
          ]
        }
      ]
    },
    {
      "cell_type": "markdown",
      "source": [
        "### ❓Question:\n",
        "\n",
        "*Why using question does not work well with these legacy models?*"
      ],
      "metadata": {
        "id": "GJEvAn5wenKu"
      }
    },
    {
      "cell_type": "markdown",
      "source": [
        "## Conclusion"
      ],
      "metadata": {
        "id": "gajsQnOveB62"
      }
    },
    {
      "cell_type": "markdown",
      "source": [
        "1. Keep your prompts clear and specific. Contradictions will confuse the model.\n",
        "\n",
        "2. LLMs are probablilistic! You might not always get the same answer on repeated runs.\n",
        "\n",
        "1. Prompting can be used to format the response according to a specific template (as we will see, this is very important for function calling and agents).\n",
        "\n",
        "2. Prompt order matters. This is likely to vary from model to model, so you will need to experiment.\n",
        "\n",
        "3. Using questions as prompt do not work well with legacy models, which have not been fine-tuned to follow instructions. Different models might have different prompting formats.\n",
        "\n",
        "\n"
      ],
      "metadata": {
        "id": "gpbfSsQFeFe1"
      }
    }
  ]
}